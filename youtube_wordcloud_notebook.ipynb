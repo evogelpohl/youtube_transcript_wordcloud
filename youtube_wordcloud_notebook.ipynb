{
 "cells": [
  {
   "cell_type": "markdown",
   "metadata": {},
   "source": [
    "## Get Transcripts from YouTube Videos"
   ]
  },
  {
   "cell_type": "code",
   "execution_count": 3,
   "metadata": {},
   "outputs": [
    {
     "name": "stdout",
     "output_type": "stream",
     "text": [
      "Requirement already satisfied: youtube_transcript_api in c:\\python3\\lib\\site-packages (from -r requirements.txt (line 1)) (0.6.1)\n",
      "Requirement already satisfied: nltk in c:\\python3\\lib\\site-packages (from -r requirements.txt (line 2)) (3.8.1)\n",
      "Requirement already satisfied: matplotlib in c:\\python3\\lib\\site-packages (from -r requirements.txt (line 3)) (3.8.2)\n",
      "Requirement already satisfied: numpy in c:\\python3\\lib\\site-packages (from -r requirements.txt (line 4)) (1.26.2)\n",
      "Requirement already satisfied: pillow in c:\\python3\\lib\\site-packages (from -r requirements.txt (line 5)) (10.1.0)\n",
      "Collecting wordcloud==1.8.2.2 (from -r requirements.txt (line 6))\n",
      "  Downloading wordcloud-1.8.2.2.tar.gz (220 kB)\n",
      "     ---------------------------------------- 0.0/220.8 kB ? eta -:--:--\n",
      "     - -------------------------------------- 10.2/220.8 kB ? eta -:--:--\n",
      "     ----- ------------------------------- 30.7/220.8 kB 435.7 kB/s eta 0:00:01\n",
      "     ------ ------------------------------ 41.0/220.8 kB 245.8 kB/s eta 0:00:01\n",
      "     -------------------- --------------- 122.9/220.8 kB 654.9 kB/s eta 0:00:01\n",
      "     ------------------------------- ---- 194.6/220.8 kB 787.7 kB/s eta 0:00:01\n",
      "     ------------------------------------ 220.8/220.8 kB 791.6 kB/s eta 0:00:00\n",
      "  Installing build dependencies: started\n",
      "  Installing build dependencies: finished with status 'done'\n",
      "  Getting requirements to build wheel: started\n",
      "  Getting requirements to build wheel: finished with status 'error'\n"
     ]
    },
    {
     "name": "stderr",
     "output_type": "stream",
     "text": [
      "  error: subprocess-exited-with-error\n",
      "  \n",
      "  × Getting requirements to build wheel did not run successfully.\n",
      "  │ exit code: 1\n",
      "  ╰─> [29 lines of output]\n",
      "      Traceback (most recent call last):\n",
      "        File \"C:\\Python3\\Lib\\site-packages\\pip\\_vendor\\pyproject_hooks\\_in_process\\_in_process.py\", line 353, in <module>\n",
      "          main()\n",
      "        File \"C:\\Python3\\Lib\\site-packages\\pip\\_vendor\\pyproject_hooks\\_in_process\\_in_process.py\", line 335, in main\n",
      "          json_out['return_val'] = hook(**hook_input['kwargs'])\n",
      "                                   ^^^^^^^^^^^^^^^^^^^^^^^^^^^^\n",
      "        File \"C:\\Python3\\Lib\\site-packages\\pip\\_vendor\\pyproject_hooks\\_in_process\\_in_process.py\", line 118, in get_requires_for_build_wheel\n",
      "          return hook(config_settings)\n",
      "                 ^^^^^^^^^^^^^^^^^^^^^\n",
      "        File \"C:\\Users\\jfaddler\\AppData\\Local\\Temp\\pip-build-env-cylqv4do\\overlay\\Lib\\site-packages\\setuptools\\build_meta.py\", line 325, in get_requires_for_build_wheel\n",
      "          return self._get_build_requires(config_settings, requirements=['wheel'])\n",
      "                 ^^^^^^^^^^^^^^^^^^^^^^^^^^^^^^^^^^^^^^^^^^^^^^^^^^^^^^^^^^^^^^^^^\n",
      "        File \"C:\\Users\\jfaddler\\AppData\\Local\\Temp\\pip-build-env-cylqv4do\\overlay\\Lib\\site-packages\\setuptools\\build_meta.py\", line 295, in _get_build_requires\n",
      "          self.run_setup()\n",
      "        File \"C:\\Users\\jfaddler\\AppData\\Local\\Temp\\pip-build-env-cylqv4do\\overlay\\Lib\\site-packages\\setuptools\\build_meta.py\", line 480, in run_setup\n",
      "          super(_BuildMetaLegacyBackend, self).run_setup(setup_script=setup_script)\n",
      "        File \"C:\\Users\\jfaddler\\AppData\\Local\\Temp\\pip-build-env-cylqv4do\\overlay\\Lib\\site-packages\\setuptools\\build_meta.py\", line 311, in run_setup\n",
      "          exec(code, locals())\n",
      "        File \"<string>\", line 13, in <module>\n",
      "        File \"C:\\Users\\jfaddler\\AppData\\Local\\Temp\\pip-install-wl9aknpk\\wordcloud_a5aa7bfc40f84cebb7e243e38fa3aa5f\\versioneer.py\", line 1480, in get_version\n",
      "          return get_versions()[\"version\"]\n",
      "                 ^^^^^^^^^^^^^^\n",
      "        File \"C:\\Users\\jfaddler\\AppData\\Local\\Temp\\pip-install-wl9aknpk\\wordcloud_a5aa7bfc40f84cebb7e243e38fa3aa5f\\versioneer.py\", line 1412, in get_versions\n",
      "          cfg = get_config_from_root(root)\n",
      "                ^^^^^^^^^^^^^^^^^^^^^^^^^^\n",
      "        File \"C:\\Users\\jfaddler\\AppData\\Local\\Temp\\pip-install-wl9aknpk\\wordcloud_a5aa7bfc40f84cebb7e243e38fa3aa5f\\versioneer.py\", line 342, in get_config_from_root\n",
      "          parser = configparser.SafeConfigParser()\n",
      "                   ^^^^^^^^^^^^^^^^^^^^^^^^^^^^^\n",
      "      AttributeError: module 'configparser' has no attribute 'SafeConfigParser'. Did you mean: 'RawConfigParser'?\n",
      "      [end of output]\n",
      "  \n",
      "  note: This error originates from a subprocess, and is likely not a problem with pip.\n",
      "error: subprocess-exited-with-error\n",
      "\n",
      "× Getting requirements to build wheel did not run successfully.\n",
      "│ exit code: 1\n",
      "╰─> See above for output.\n",
      "\n",
      "note: This error originates from a subprocess, and is likely not a problem with pip.\n",
      "\n",
      "[notice] A new release of pip is available: 23.2.1 -> 23.3.1\n",
      "[notice] To update, run: python.exe -m pip install --upgrade pip\n"
     ]
    }
   ],
   "source": [
    "#ensure you've install packages from requirements.txt\n",
    "#!pip install -r requirements.txt"
   ]
  },
  {
   "cell_type": "code",
   "execution_count": null,
   "metadata": {},
   "outputs": [],
   "source": [
    "# Download the youtube video transcript\n",
    "from youtube_transcript_api import YouTubeTranscriptApi\n",
    "import re\n",
    "\n",
    "# Replace 'video_id' with the ID of the YouTube video for your fav Keynote address (e.g. Ignite, re:Invent, Next..)\n",
    "# Find the video you want and strip off the portion of the url following the '/watch?v='\n",
    "\n",
    "#video_id = 'FZhbJZEgKQ4' #MS-2023\n",
    "#video_id = 'iuU2YJohuZE' #IntelInnovation2023\n",
    "#video_id = '3zR5tx_Jm6k' #MSIgnite2017\n",
    "#video_id = 'sgW_ww1Xxe8&t=631s' #MS-2019\n",
    "#video_id = 'lEUS3_Qjyjg&t=2757s' #GCP_NEXT_2023\n",
    "#video_id = '8clH7cbnIQw' #AWS-2023\n",
    "#video_id = '1IxDLeFQKPk' #AWS-2017-Andy\n",
    "#video_id = 'nFKVzEAm-ts' #AWS-2017-Vogel\n",
    "video_id = 'pJG6nmR7XxI&t=16s' #AWS-2017-Pete\n",
    "#video_id = '-bxTA8vqoIU' #ServiceNow2023\n",
    "\n",
    "# Get the transcript from the youtube\n",
    "transcript_list = YouTubeTranscriptApi.get_transcript(video_id)\n",
    "\n",
    "# Join the :text: portion up\n",
    "transcript_text = ' '.join([transcript['text'] for transcript in transcript_list])\n",
    "\n",
    "# Fix some transcript goofs for tech words jargon\n",
    "transcript_text = re.sub(r'\\bsequel\\b', 'SQL', transcript_text, flags=re.IGNORECASE) # replace 'sequel' with 'SQL', doh.\n",
    "## add more here, like IoT or YAML or other things that yt transcript fouls up\n"
   ]
  },
  {
   "cell_type": "markdown",
   "metadata": {},
   "source": [
    "## Remove Stopwords, WordCloud Keyword Frequency"
   ]
  },
  {
   "cell_type": "code",
   "execution_count": null,
   "metadata": {},
   "outputs": [],
   "source": [
    "# Remove STOP WORDS like \"at\", \"the\" and \"and\" - then create a word cloud by frequency of key terms in the transcript\n",
    "import nltk\n",
    "from nltk.corpus import stopwords\n",
    "from nltk.tokenize import word_tokenize\n",
    "import plotly.express as px\n",
    "from wordcloud import WordCloud\n",
    "import matplotlib.pyplot as plt\n",
    "\n",
    "\n",
    "# Download dics of words\n",
    "nltk.download('stopwords')\n",
    "nltk.download('punkt')\n",
    "\n",
    "# Tokenize\n",
    "words = word_tokenize(transcript_text)\n",
    "\n",
    "# Filter out stop words and junk words\n",
    "stop_words = set(stopwords.words('english'))\n",
    "more_stop_words = ['use', 'well', 'azure', 'new', 'one', 'know', 'see', 'actually', 'let', 'sort', 'yeah', 'able', 'need', 'going', 'show', 'take', \\\n",
    "                   'microsoft', 'thomas', 'aws', 'help', 'gon', 'na', 'us', 'uh', 'way', 'right', 'much', 'really', 'want', 'get', 'google', 'amazon', 'also', 'like' \\\n",
    "                   'thank', 'like', 'thank']\n",
    "all_stop_words = stop_words.union(more_stop_words)\n",
    "keywords = [word.lower() for word in words if word.isalpha() and word.lower() not in all_stop_words]\n",
    "\n",
    "# Calculate freq. dist. of the words remaining 'keywords'\n",
    "freq_dist = nltk.FreqDist(keywords)\n",
    "\n",
    "# Get the top N most common, after remove basic words, replace (N) w/ the TopN you want.\n",
    "common_words = freq_dist.most_common(10)\n",
    "\n",
    "# Create a string\n",
    "word_freq = {word: freq for word, freq in common_words}\n",
    "\n",
    "# WordCloud (WC)\n",
    "wordcloud = WordCloud(width = 800, height = 800, \n",
    "                      background_color ='white', \n",
    "                      min_font_size = 10)\n",
    "\n",
    "# Generage the WC\n",
    "wordcloud.generate_from_frequencies(word_freq)\n",
    "\n",
    "# Plot and show the WC           \n",
    "plt.figure(figsize = (8, 8), facecolor = None) \n",
    "plt.imshow(wordcloud)\n",
    "plt.tight_layout(pad = 0)\n",
    "plt.axis(\"off\") \n",
    "plt.show()"
   ]
  }
 ],
 "metadata": {
  "kernelspec": {
   "display_name": "Python 3",
   "language": "python",
   "name": "python3"
  },
  "language_info": {
   "codemirror_mode": {
    "name": "ipython",
    "version": 3
   },
   "file_extension": ".py",
   "mimetype": "text/x-python",
   "name": "python",
   "nbconvert_exporter": "python",
   "pygments_lexer": "ipython3",
   "version": "3.12.0"
  }
 },
 "nbformat": 4,
 "nbformat_minor": 2
}
