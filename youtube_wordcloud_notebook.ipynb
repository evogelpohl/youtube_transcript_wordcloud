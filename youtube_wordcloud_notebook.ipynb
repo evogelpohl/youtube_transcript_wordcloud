{
 "cells": [
  {
   "cell_type": "markdown",
   "metadata": {},
   "source": [
    "## Get Transcripts from YouTube Videos"
   ]
  },
  {
   "cell_type": "code",
   "execution_count": null,
   "metadata": {},
   "outputs": [],
   "source": [
    "#ensure you've install packages from requirements.txt"
   ]
  },
  {
   "cell_type": "code",
   "execution_count": null,
   "metadata": {},
   "outputs": [],
   "source": [
    "# Download the youtube video transcript\n",
    "from youtube_transcript_api import YouTubeTranscriptApi\n",
    "import re\n",
    "\n",
    "# Replace 'video_id' with the ID of the YouTube video for your fav Keynote address (e.g. Ignite, re:Invent, Next..)\n",
    "# Find the video you want and strip off the portion of the url following the '/watch?v='\n",
    "\n",
    "#video_id = 'FZhbJZEgKQ4' #MS-2023\n",
    "#video_id = 'iuU2YJohuZE' #IntelInnovation2023\n",
    "#video_id = '3zR5tx_Jm6k' #MSIgnite2017\n",
    "#video_id = 'sgW_ww1Xxe8&t=631s' #MS-2019\n",
    "#video_id = 'lEUS3_Qjyjg&t=2757s' #GCP_NEXT_2023\n",
    "#video_id = '8clH7cbnIQw' #AWS-2023\n",
    "#video_id = '1IxDLeFQKPk' #AWS-2017-Andy\n",
    "#video_id = 'nFKVzEAm-ts' #AWS-2017-Vogel\n",
    "video_id = 'pJG6nmR7XxI&t=16s' #AWS-2017-Pete\n",
    "#video_id = '-bxTA8vqoIU' #ServiceNow2023\n",
    "\n",
    "# Get the transcript from the youtube\n",
    "transcript_list = YouTubeTranscriptApi.get_transcript(video_id)\n",
    "\n",
    "# Join the :text: portion up\n",
    "transcript_text = ' '.join([transcript['text'] for transcript in transcript_list])\n",
    "\n",
    "# Fix some transcript goofs for tech words jargon\n",
    "transcript_text = re.sub(r'\\bsequel\\b', 'SQL', transcript_text, flags=re.IGNORECASE) # replace 'sequel' with 'SQL', doh.\n",
    "## add more here, like IoT or YAML or other things that yt transcript fouls up\n"
   ]
  },
  {
   "cell_type": "markdown",
   "metadata": {},
   "source": [
    "## Remove Stopwords, WordCloud Keyword Frequency"
   ]
  },
  {
   "cell_type": "code",
   "execution_count": null,
   "metadata": {},
   "outputs": [],
   "source": [
    "# Remove STOP WORDS like \"at\", \"the\" and \"and\" - then create a word cloud by frequency of key terms in the transcript\n",
    "import nltk\n",
    "from nltk.corpus import stopwords\n",
    "from nltk.tokenize import word_tokenize\n",
    "import plotly.express as px\n",
    "from wordcloud import WordCloud\n",
    "import matplotlib.pyplot as plt\n",
    "\n",
    "\n",
    "# Download dics of words\n",
    "nltk.download('stopwords')\n",
    "nltk.download('punkt')\n",
    "\n",
    "# Tokenize\n",
    "words = word_tokenize(transcript_text)\n",
    "\n",
    "# Filter out stop words and junk words\n",
    "stop_words = set(stopwords.words('english'))\n",
    "more_stop_words = ['use', 'well', 'azure', 'new', 'one', 'know', 'see', 'actually', 'let', 'sort', 'yeah', 'able', 'need', 'going', 'show', 'take', \\\n",
    "                   'microsoft', 'thomas', 'aws', 'help', 'gon', 'na', 'us', 'uh', 'way', 'right', 'much', 'really', 'want', 'get', 'google', 'amazon', 'also', 'like' \\\n",
    "                   'thank', 'like', 'thank']\n",
    "all_stop_words = stop_words.union(more_stop_words)\n",
    "keywords = [word.lower() for word in words if word.isalpha() and word.lower() not in all_stop_words]\n",
    "\n",
    "# Calculate freq. dist. of the words remaining 'keywords'\n",
    "freq_dist = nltk.FreqDist(keywords)\n",
    "\n",
    "# Get the top N most common, after remove basic words, replace (N) w/ the TopN you want.\n",
    "common_words = freq_dist.most_common(10)\n",
    "\n",
    "# Create a string\n",
    "word_freq = {word: freq for word, freq in common_words}\n",
    "\n",
    "# WordCloud (WC)\n",
    "wordcloud = WordCloud(width = 800, height = 800, \n",
    "                      background_color ='white', \n",
    "                      min_font_size = 10)\n",
    "\n",
    "# Generage the WC\n",
    "wordcloud.generate_from_frequencies(word_freq)\n",
    "\n",
    "# Plot and show the WC           \n",
    "plt.figure(figsize = (8, 8), facecolor = None) \n",
    "plt.imshow(wordcloud)\n",
    "plt.tight_layout(pad = 0)\n",
    "plt.axis(\"off\") \n",
    "plt.show()"
   ]
  }
 ],
 "metadata": {
  "language_info": {
   "name": "python"
  }
 },
 "nbformat": 4,
 "nbformat_minor": 2
}
