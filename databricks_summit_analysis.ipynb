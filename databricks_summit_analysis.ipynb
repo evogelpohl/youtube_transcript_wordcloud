{
 "cells": [
  {
   "cell_type": "markdown",
   "metadata": {},
   "source": [
    "# Databricks Summit Word Analysis \n",
    "### for 2023 versus 2024"
   ]
  },
  {
   "cell_type": "markdown",
   "metadata": {},
   "source": [
    "## Get Transcripts from YouTube Videos"
   ]
  },
  {
   "cell_type": "code",
   "execution_count": null,
   "metadata": {},
   "outputs": [],
   "source": [
    "from youtube_transcript_api import YouTubeTranscriptApi\n",
    "import re\n",
    "import plotly.graph_objects as go\n",
    "from collections import Counter\n",
    "\n",
    "def get_youtube_transcripts(video_ids):\n",
    "    \"\"\"\n",
    "    Fetches and concatenates transcripts from a list of YouTube video IDs.\n",
    "    \n",
    "    Args:\n",
    "    video_ids (list): List of YouTube video IDs as strings.\n",
    "    \n",
    "    Returns:\n",
    "    str: Concatenated transcript text.\n",
    "    \"\"\"\n",
    "    transcript_text = ''\n",
    "    for video_id in video_ids:\n",
    "        try:\n",
    "            # Fetch transcript\n",
    "            transcript_list = YouTubeTranscriptApi.get_transcript(video_id)\n",
    "            # Concatenate transcript texts\n",
    "            transcript_text += ' '.join([transcript['text'] for transcript in transcript_list]) + ' '\n",
    "        except Exception as e:\n",
    "            print(f\"Error fetching transcript for video ID {video_id}: {e}\")\n",
    "\n",
    "    return transcript_text.lower()\n",
    "\n",
    "# List the YouTube video ids from its URL for the conferences:\n",
    "video_ids_2023 = ['h4z4vBoxQ6s', 'un_telVvKiY'] # Databricks 2023\n",
    "video_ids_2024 = ['UfbyzK488Hk', 'uB0n4IZmS34'] # Databricks 2024\n",
    "\n",
    "# Run the function to get the transcripts from YouTube\n",
    "transcript_2023 = get_youtube_transcripts(video_ids_2023)\n",
    "transcript_2024 = get_youtube_transcripts(video_ids_2024)\n",
    "\n",
    "# Clean up the misqouted text that YouTube created when it tried to convert speech to text\n",
    "databricks_variations = [\n",
    "    r'\\bdata breaks\\b', r'\\bdata bricks\\b', r'\\bdata brick\\b', r'\\bdata breakes\\b', r'\\bdata bri\\b', r'\\bdata brak\\b', r'\\bdata braks\\b',\n",
    "    r'\\bdatabrick\\b', r'\\bdatabriks\\b', r'\\bdata briks\\b', r'\\bdata breakers\\b', r'\\bdata brakes\\b', r'\\bdatab bricks\\b',\n",
    "    r'\\bdata brake\\b', r'\\bdata break\\b', r'\\bdatab briak\\b', r'\\bdatab briaks\\b', r'\\bdatab brick\\b', r'\\bdatab bricks\\b',\n",
    "    r'\\bdata brecks\\b', r'\\bdata briak\\b', r'\\bdata brook\\b', r'\\bdata bir\\b', r\"\\bdata burk's\\b\", r'\\bdata brs\\b'\n",
    "]\n",
    "for variation in databricks_variations:\n",
    "    transcript_2023 = re.sub(variation, 'databricks', transcript_2023, flags=re.IGNORECASE)\n",
    "    transcript_2024 = re.sub(variation, 'databricks', transcript_2024, flags=re.IGNORECASE)\n",
    "\n",
    "# Fix other speech foul-ups\n",
    "transcript_2023 = re.sub(r'\\bsequel\\b', 'sql', transcript_2023, flags=re.IGNORECASE)\n",
    "transcript_2024 = re.sub(r'\\bsequel\\b', 'sql', transcript_2024, flags=re.IGNORECASE)\n",
    "\n",
    "# Split the text into words to get a final word count\n",
    "transcript_2023_words = transcript_2023.split()\n",
    "transcript_2024_words = transcript_2024.split()\n",
    "transcript_2023_wordcount = len(transcript_2023_words)\n",
    "transcript_2024_wordcount = len(transcript_2024_words)\n",
    "\n",
    "# Now, get the count of the following words: \"spark\" \"ai\", \"data\", \"model\" for each year's transcript\n",
    "words_to_count = ['spark', 'ai', 'data', 'model']\n",
    "\n",
    "def count_words(word_list, words_to_count):\n",
    "    word_counter = Counter(word_list)\n",
    "    return {word: word_counter[word] for word in words_to_count}\n",
    "\n",
    "count_2023 = count_words(transcript_2023_words, words_to_count)\n",
    "count_2024 = count_words(transcript_2024_words, words_to_count)\n",
    "\n",
    "# Calculate the percentage of the count of each of those 4 words, per year relative to the total word count as a percentage\n",
    "def calculate_percentage(count_dict, total_words):\n",
    "    return {word: (count / total_words) * 100 for word, count in count_dict.items()}\n",
    "\n",
    "percentages_2023 = calculate_percentage(count_2023, transcript_2023_wordcount)\n",
    "percentages_2024 = calculate_percentage(count_2024, transcript_2024_wordcount)\n"
   ]
  },
  {
   "cell_type": "markdown",
   "metadata": {},
   "source": [
    "# Graph it"
   ]
  },
  {
   "cell_type": "code",
   "execution_count": 39,
   "metadata": {},
   "outputs": [
    {
     "data": {
      "application/vnd.plotly.v1+json": {
       "config": {
        "plotlyServerURL": "https://plot.ly"
       },
       "data": [
        {
         "marker": {
          "color": "#98102A"
         },
         "name": "Data",
         "type": "bar",
         "x": [
          "2023",
          "2024"
         ],
         "y": [
          0.9743958220150365,
          1.1818542820944349
         ]
        },
        {
         "marker": {
          "color": "#2272B4"
         },
         "name": "AI",
         "type": "bar",
         "x": [
          "2023",
          "2024"
         ],
         "y": [
          0.6063686230525228,
          0.5502713537431689
         ]
        },
        {
         "marker": {
          "color": "#FFAB00"
         },
         "name": "Model",
         "type": "bar",
         "x": [
          "2023",
          "2024"
         ],
         "y": [
          0.3172043952962619,
          0.1928786188378118
         ]
        },
        {
         "marker": {
          "color": "#00A972"
         },
         "name": "Spark",
         "type": "bar",
         "x": [
          "2023",
          "2024"
         ],
         "y": [
          0.15597343194125585,
          0.1928786188378118
         ]
        }
       ],
       "layout": {
        "barmode": "group",
        "font": {
         "family": "DM Sans, Open Sans, sans-serif",
         "size": 12
        },
        "images": [
         {
          "sizex": 0.4,
          "sizey": 0.4,
          "source": "https://upload.wikimedia.org/wikipedia/commons/6/63/Databricks_Logo.png",
          "x": -0.1,
          "xanchor": "left",
          "xref": "paper",
          "y": 1.05,
          "yanchor": "bottom",
          "yref": "paper"
         }
        ],
        "paper_bgcolor": "white",
        "plot_bgcolor": "white",
        "template": {
         "data": {
          "bar": [
           {
            "error_x": {
             "color": "#2a3f5f"
            },
            "error_y": {
             "color": "#2a3f5f"
            },
            "marker": {
             "line": {
              "color": "#E5ECF6",
              "width": 0.5
             },
             "pattern": {
              "fillmode": "overlay",
              "size": 10,
              "solidity": 0.2
             }
            },
            "type": "bar"
           }
          ],
          "barpolar": [
           {
            "marker": {
             "line": {
              "color": "#E5ECF6",
              "width": 0.5
             },
             "pattern": {
              "fillmode": "overlay",
              "size": 10,
              "solidity": 0.2
             }
            },
            "type": "barpolar"
           }
          ],
          "carpet": [
           {
            "aaxis": {
             "endlinecolor": "#2a3f5f",
             "gridcolor": "white",
             "linecolor": "white",
             "minorgridcolor": "white",
             "startlinecolor": "#2a3f5f"
            },
            "baxis": {
             "endlinecolor": "#2a3f5f",
             "gridcolor": "white",
             "linecolor": "white",
             "minorgridcolor": "white",
             "startlinecolor": "#2a3f5f"
            },
            "type": "carpet"
           }
          ],
          "choropleth": [
           {
            "colorbar": {
             "outlinewidth": 0,
             "ticks": ""
            },
            "type": "choropleth"
           }
          ],
          "contour": [
           {
            "colorbar": {
             "outlinewidth": 0,
             "ticks": ""
            },
            "colorscale": [
             [
              0,
              "#0d0887"
             ],
             [
              0.1111111111111111,
              "#46039f"
             ],
             [
              0.2222222222222222,
              "#7201a8"
             ],
             [
              0.3333333333333333,
              "#9c179e"
             ],
             [
              0.4444444444444444,
              "#bd3786"
             ],
             [
              0.5555555555555556,
              "#d8576b"
             ],
             [
              0.6666666666666666,
              "#ed7953"
             ],
             [
              0.7777777777777778,
              "#fb9f3a"
             ],
             [
              0.8888888888888888,
              "#fdca26"
             ],
             [
              1,
              "#f0f921"
             ]
            ],
            "type": "contour"
           }
          ],
          "contourcarpet": [
           {
            "colorbar": {
             "outlinewidth": 0,
             "ticks": ""
            },
            "type": "contourcarpet"
           }
          ],
          "heatmap": [
           {
            "colorbar": {
             "outlinewidth": 0,
             "ticks": ""
            },
            "colorscale": [
             [
              0,
              "#0d0887"
             ],
             [
              0.1111111111111111,
              "#46039f"
             ],
             [
              0.2222222222222222,
              "#7201a8"
             ],
             [
              0.3333333333333333,
              "#9c179e"
             ],
             [
              0.4444444444444444,
              "#bd3786"
             ],
             [
              0.5555555555555556,
              "#d8576b"
             ],
             [
              0.6666666666666666,
              "#ed7953"
             ],
             [
              0.7777777777777778,
              "#fb9f3a"
             ],
             [
              0.8888888888888888,
              "#fdca26"
             ],
             [
              1,
              "#f0f921"
             ]
            ],
            "type": "heatmap"
           }
          ],
          "heatmapgl": [
           {
            "colorbar": {
             "outlinewidth": 0,
             "ticks": ""
            },
            "colorscale": [
             [
              0,
              "#0d0887"
             ],
             [
              0.1111111111111111,
              "#46039f"
             ],
             [
              0.2222222222222222,
              "#7201a8"
             ],
             [
              0.3333333333333333,
              "#9c179e"
             ],
             [
              0.4444444444444444,
              "#bd3786"
             ],
             [
              0.5555555555555556,
              "#d8576b"
             ],
             [
              0.6666666666666666,
              "#ed7953"
             ],
             [
              0.7777777777777778,
              "#fb9f3a"
             ],
             [
              0.8888888888888888,
              "#fdca26"
             ],
             [
              1,
              "#f0f921"
             ]
            ],
            "type": "heatmapgl"
           }
          ],
          "histogram": [
           {
            "marker": {
             "pattern": {
              "fillmode": "overlay",
              "size": 10,
              "solidity": 0.2
             }
            },
            "type": "histogram"
           }
          ],
          "histogram2d": [
           {
            "colorbar": {
             "outlinewidth": 0,
             "ticks": ""
            },
            "colorscale": [
             [
              0,
              "#0d0887"
             ],
             [
              0.1111111111111111,
              "#46039f"
             ],
             [
              0.2222222222222222,
              "#7201a8"
             ],
             [
              0.3333333333333333,
              "#9c179e"
             ],
             [
              0.4444444444444444,
              "#bd3786"
             ],
             [
              0.5555555555555556,
              "#d8576b"
             ],
             [
              0.6666666666666666,
              "#ed7953"
             ],
             [
              0.7777777777777778,
              "#fb9f3a"
             ],
             [
              0.8888888888888888,
              "#fdca26"
             ],
             [
              1,
              "#f0f921"
             ]
            ],
            "type": "histogram2d"
           }
          ],
          "histogram2dcontour": [
           {
            "colorbar": {
             "outlinewidth": 0,
             "ticks": ""
            },
            "colorscale": [
             [
              0,
              "#0d0887"
             ],
             [
              0.1111111111111111,
              "#46039f"
             ],
             [
              0.2222222222222222,
              "#7201a8"
             ],
             [
              0.3333333333333333,
              "#9c179e"
             ],
             [
              0.4444444444444444,
              "#bd3786"
             ],
             [
              0.5555555555555556,
              "#d8576b"
             ],
             [
              0.6666666666666666,
              "#ed7953"
             ],
             [
              0.7777777777777778,
              "#fb9f3a"
             ],
             [
              0.8888888888888888,
              "#fdca26"
             ],
             [
              1,
              "#f0f921"
             ]
            ],
            "type": "histogram2dcontour"
           }
          ],
          "mesh3d": [
           {
            "colorbar": {
             "outlinewidth": 0,
             "ticks": ""
            },
            "type": "mesh3d"
           }
          ],
          "parcoords": [
           {
            "line": {
             "colorbar": {
              "outlinewidth": 0,
              "ticks": ""
             }
            },
            "type": "parcoords"
           }
          ],
          "pie": [
           {
            "automargin": true,
            "type": "pie"
           }
          ],
          "scatter": [
           {
            "fillpattern": {
             "fillmode": "overlay",
             "size": 10,
             "solidity": 0.2
            },
            "type": "scatter"
           }
          ],
          "scatter3d": [
           {
            "line": {
             "colorbar": {
              "outlinewidth": 0,
              "ticks": ""
             }
            },
            "marker": {
             "colorbar": {
              "outlinewidth": 0,
              "ticks": ""
             }
            },
            "type": "scatter3d"
           }
          ],
          "scattercarpet": [
           {
            "marker": {
             "colorbar": {
              "outlinewidth": 0,
              "ticks": ""
             }
            },
            "type": "scattercarpet"
           }
          ],
          "scattergeo": [
           {
            "marker": {
             "colorbar": {
              "outlinewidth": 0,
              "ticks": ""
             }
            },
            "type": "scattergeo"
           }
          ],
          "scattergl": [
           {
            "marker": {
             "colorbar": {
              "outlinewidth": 0,
              "ticks": ""
             }
            },
            "type": "scattergl"
           }
          ],
          "scattermapbox": [
           {
            "marker": {
             "colorbar": {
              "outlinewidth": 0,
              "ticks": ""
             }
            },
            "type": "scattermapbox"
           }
          ],
          "scatterpolar": [
           {
            "marker": {
             "colorbar": {
              "outlinewidth": 0,
              "ticks": ""
             }
            },
            "type": "scatterpolar"
           }
          ],
          "scatterpolargl": [
           {
            "marker": {
             "colorbar": {
              "outlinewidth": 0,
              "ticks": ""
             }
            },
            "type": "scatterpolargl"
           }
          ],
          "scatterternary": [
           {
            "marker": {
             "colorbar": {
              "outlinewidth": 0,
              "ticks": ""
             }
            },
            "type": "scatterternary"
           }
          ],
          "surface": [
           {
            "colorbar": {
             "outlinewidth": 0,
             "ticks": ""
            },
            "colorscale": [
             [
              0,
              "#0d0887"
             ],
             [
              0.1111111111111111,
              "#46039f"
             ],
             [
              0.2222222222222222,
              "#7201a8"
             ],
             [
              0.3333333333333333,
              "#9c179e"
             ],
             [
              0.4444444444444444,
              "#bd3786"
             ],
             [
              0.5555555555555556,
              "#d8576b"
             ],
             [
              0.6666666666666666,
              "#ed7953"
             ],
             [
              0.7777777777777778,
              "#fb9f3a"
             ],
             [
              0.8888888888888888,
              "#fdca26"
             ],
             [
              1,
              "#f0f921"
             ]
            ],
            "type": "surface"
           }
          ],
          "table": [
           {
            "cells": {
             "fill": {
              "color": "#EBF0F8"
             },
             "line": {
              "color": "white"
             }
            },
            "header": {
             "fill": {
              "color": "#C8D4E3"
             },
             "line": {
              "color": "white"
             }
            },
            "type": "table"
           }
          ]
         },
         "layout": {
          "annotationdefaults": {
           "arrowcolor": "#2a3f5f",
           "arrowhead": 0,
           "arrowwidth": 1
          },
          "autotypenumbers": "strict",
          "coloraxis": {
           "colorbar": {
            "outlinewidth": 0,
            "ticks": ""
           }
          },
          "colorscale": {
           "diverging": [
            [
             0,
             "#8e0152"
            ],
            [
             0.1,
             "#c51b7d"
            ],
            [
             0.2,
             "#de77ae"
            ],
            [
             0.3,
             "#f1b6da"
            ],
            [
             0.4,
             "#fde0ef"
            ],
            [
             0.5,
             "#f7f7f7"
            ],
            [
             0.6,
             "#e6f5d0"
            ],
            [
             0.7,
             "#b8e186"
            ],
            [
             0.8,
             "#7fbc41"
            ],
            [
             0.9,
             "#4d9221"
            ],
            [
             1,
             "#276419"
            ]
           ],
           "sequential": [
            [
             0,
             "#0d0887"
            ],
            [
             0.1111111111111111,
             "#46039f"
            ],
            [
             0.2222222222222222,
             "#7201a8"
            ],
            [
             0.3333333333333333,
             "#9c179e"
            ],
            [
             0.4444444444444444,
             "#bd3786"
            ],
            [
             0.5555555555555556,
             "#d8576b"
            ],
            [
             0.6666666666666666,
             "#ed7953"
            ],
            [
             0.7777777777777778,
             "#fb9f3a"
            ],
            [
             0.8888888888888888,
             "#fdca26"
            ],
            [
             1,
             "#f0f921"
            ]
           ],
           "sequentialminus": [
            [
             0,
             "#0d0887"
            ],
            [
             0.1111111111111111,
             "#46039f"
            ],
            [
             0.2222222222222222,
             "#7201a8"
            ],
            [
             0.3333333333333333,
             "#9c179e"
            ],
            [
             0.4444444444444444,
             "#bd3786"
            ],
            [
             0.5555555555555556,
             "#d8576b"
            ],
            [
             0.6666666666666666,
             "#ed7953"
            ],
            [
             0.7777777777777778,
             "#fb9f3a"
            ],
            [
             0.8888888888888888,
             "#fdca26"
            ],
            [
             1,
             "#f0f921"
            ]
           ]
          },
          "colorway": [
           "#636efa",
           "#EF553B",
           "#00cc96",
           "#ab63fa",
           "#FFA15A",
           "#19d3f3",
           "#FF6692",
           "#B6E880",
           "#FF97FF",
           "#FECB52"
          ],
          "font": {
           "color": "#2a3f5f"
          },
          "geo": {
           "bgcolor": "white",
           "lakecolor": "white",
           "landcolor": "#E5ECF6",
           "showlakes": true,
           "showland": true,
           "subunitcolor": "white"
          },
          "hoverlabel": {
           "align": "left"
          },
          "hovermode": "closest",
          "mapbox": {
           "style": "light"
          },
          "paper_bgcolor": "white",
          "plot_bgcolor": "#E5ECF6",
          "polar": {
           "angularaxis": {
            "gridcolor": "white",
            "linecolor": "white",
            "ticks": ""
           },
           "bgcolor": "#E5ECF6",
           "radialaxis": {
            "gridcolor": "white",
            "linecolor": "white",
            "ticks": ""
           }
          },
          "scene": {
           "xaxis": {
            "backgroundcolor": "#E5ECF6",
            "gridcolor": "white",
            "gridwidth": 2,
            "linecolor": "white",
            "showbackground": true,
            "ticks": "",
            "zerolinecolor": "white"
           },
           "yaxis": {
            "backgroundcolor": "#E5ECF6",
            "gridcolor": "white",
            "gridwidth": 2,
            "linecolor": "white",
            "showbackground": true,
            "ticks": "",
            "zerolinecolor": "white"
           },
           "zaxis": {
            "backgroundcolor": "#E5ECF6",
            "gridcolor": "white",
            "gridwidth": 2,
            "linecolor": "white",
            "showbackground": true,
            "ticks": "",
            "zerolinecolor": "white"
           }
          },
          "shapedefaults": {
           "line": {
            "color": "#2a3f5f"
           }
          },
          "ternary": {
           "aaxis": {
            "gridcolor": "white",
            "linecolor": "white",
            "ticks": ""
           },
           "baxis": {
            "gridcolor": "white",
            "linecolor": "white",
            "ticks": ""
           },
           "bgcolor": "#E5ECF6",
           "caxis": {
            "gridcolor": "white",
            "linecolor": "white",
            "ticks": ""
           }
          },
          "title": {
           "x": 0.05
          },
          "xaxis": {
           "automargin": true,
           "gridcolor": "white",
           "linecolor": "white",
           "ticks": "",
           "title": {
            "standoff": 15
           },
           "zerolinecolor": "white",
           "zerolinewidth": 2
          },
          "yaxis": {
           "automargin": true,
           "gridcolor": "white",
           "linecolor": "white",
           "ticks": "",
           "title": {
            "standoff": 15
           },
           "zerolinecolor": "white",
           "zerolinewidth": 2
          }
         }
        },
        "title": {
         "text": "<b>Keyword Freq. Comparison</b><br>(as Percentage of Total Words)",
         "x": 0.85,
         "xanchor": "right",
         "yanchor": "top"
        },
        "width": 600,
        "xaxis": {
         "title": {
          "text": "Summit Year"
         }
        },
        "yaxis": {
         "title": {
          "text": "Percentage of Total Words"
         }
        }
       }
      }
     },
     "metadata": {},
     "output_type": "display_data"
    }
   ],
   "source": [
    "\n",
    "# Create our data for graphing\n",
    "years = ['2023', '2024']\n",
    "data_percentages = [percentages_2023['data'], percentages_2024['data']]\n",
    "ai_percentages = [percentages_2023['ai'], percentages_2024['ai']]\n",
    "model_percentages = [percentages_2023['model'], percentages_2024['model']]\n",
    "spark_percentages = [percentages_2023['spark'], percentages_2024['spark']]\n",
    "\n",
    "# Create traces in Databricks' brand colors themes\n",
    "trace_data = go.Bar(x=years, y=data_percentages, name='Data', marker_color='#98102A')\n",
    "trace_ai = go.Bar(x=years, y=ai_percentages, name='AI', marker_color='#2272B4')\n",
    "trace_model = go.Bar(x=years, y=model_percentages, name='Model', marker_color='#FFAB00')\n",
    "trace_spark = go.Bar(x=years, y=spark_percentages, name='Spark', marker_color='#00A972')\n",
    "\n",
    "# Create layouts\n",
    "layout = go.Layout(\n",
    "    title={\n",
    "        'text': '''<b>Keyword Freq. Comparison</b><br>(as Percentage of Total Words)''',\n",
    "        'x': 0.85,  # Adjust to move the title slightly to the left\n",
    "        'xanchor': 'right',\n",
    "        'yanchor': 'top'\n",
    "    },\n",
    "    font=dict(family=\"DM Sans, Open Sans, sans-serif\", size=12),\n",
    "    xaxis=dict(title='Summit Year'),\n",
    "    yaxis=dict(title='Percentage of Total Words'),\n",
    "    barmode='group',\n",
    "    width=600,\n",
    "    plot_bgcolor='white',\n",
    "    paper_bgcolor='white',\n",
    "    images=[dict(\n",
    "        source=\"https://upload.wikimedia.org/wikipedia/commons/6/63/Databricks_Logo.png\",\n",
    "        xref=\"paper\", yref=\"paper\",\n",
    "        x=-0.10, y=1.05,\n",
    "        sizex=0.40, sizey=0.40,\n",
    "        xanchor=\"left\", yanchor=\"bottom\"\n",
    "    )]\n",
    ")\n",
    "\n",
    "# Create the fig. and show it.\n",
    "fig = go.Figure(data=[trace_data, trace_ai, trace_model, trace_spark], layout=layout)\n",
    "fig.show()"
   ]
  },
  {
   "cell_type": "code",
   "execution_count": null,
   "metadata": {},
   "outputs": [],
   "source": []
  }
 ],
 "metadata": {
  "kernelspec": {
   "display_name": "Python 3",
   "language": "python",
   "name": "python3"
  },
  "language_info": {
   "codemirror_mode": {
    "name": "ipython",
    "version": 3
   },
   "file_extension": ".py",
   "mimetype": "text/x-python",
   "name": "python",
   "nbconvert_exporter": "python",
   "pygments_lexer": "ipython3",
   "version": "3.9.6"
  }
 },
 "nbformat": 4,
 "nbformat_minor": 2
}
